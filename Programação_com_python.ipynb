{
  "nbformat": 4,
  "nbformat_minor": 0,
  "metadata": {
    "colab": {
      "name": "Programação com python.ipynb",
      "provenance": [],
      "authorship_tag": "ABX9TyOrxVXg6mKNFxmMS/jRYPhV",
      "include_colab_link": true
    },
    "kernelspec": {
      "name": "python3",
      "display_name": "Python 3"
    }
  },
  "cells": [
    {
      "cell_type": "markdown",
      "metadata": {
        "id": "view-in-github",
        "colab_type": "text"
      },
      "source": [
        "<a href=\"https://colab.research.google.com/github/Delismachado/Pro.gra.man.do/blob/master/Programa%C3%A7%C3%A3o_com_python.ipynb\" target=\"_parent\"><img src=\"https://colab.research.google.com/assets/colab-badge.svg\" alt=\"Open In Colab\"/></a>"
      ]
    },
    {
      "cell_type": "code",
      "metadata": {
        "id": "4TDkE60bcI0B",
        "colab_type": "code",
        "outputId": "81d610de-dc95-46d5-8b0d-4ab18bd88dbf",
        "colab": {
          "base_uri": "https://localhost:8080/",
          "height": 34
        }
      },
      "source": [
        "print('Hoje é segunda-feira 11/05/2020, coragem!!!')"
      ],
      "execution_count": 0,
      "outputs": [
        {
          "output_type": "stream",
          "text": [
            "Hoje é segunda-feira 11/05/2020, coragem!!!\n"
          ],
          "name": "stdout"
        }
      ]
    },
    {
      "cell_type": "markdown",
      "metadata": {
        "id": "mQd5xYksLQVT",
        "colab_type": "text"
      },
      "source": [
        "Um cálculo simples...."
      ]
    },
    {
      "cell_type": "code",
      "metadata": {
        "id": "JQUTr55NdjGL",
        "colab_type": "code",
        "outputId": "da67ed56-6241-4def-b31a-4a199c368cc4",
        "colab": {
          "base_uri": "https://localhost:8080/",
          "height": 34
        }
      },
      "source": [
        "1500 + (1500*5/100)"
      ],
      "execution_count": 0,
      "outputs": [
        {
          "output_type": "execute_result",
          "data": {
            "text/plain": [
              "1575.0"
            ]
          },
          "metadata": {
            "tags": []
          },
          "execution_count": 17
        }
      ]
    },
    {
      "cell_type": "markdown",
      "metadata": {
        "id": "ecVjUYIAmS8k",
        "colab_type": "text"
      },
      "source": [
        "Atribuir valor a variável e imprimir o cálculo.... Rastrear ordem de execução"
      ]
    },
    {
      "cell_type": "code",
      "metadata": {
        "id": "A3V6XSdseK3X",
        "colab_type": "code",
        "outputId": "19e4c938-9b44-41a5-b207-6a3eececc718",
        "colab": {
          "base_uri": "https://localhost:8080/",
          "height": 34
        }
      },
      "source": [
        "a = 1500\n",
        "b = 5\n",
        "print (a + (a * b / 100))"
      ],
      "execution_count": 0,
      "outputs": [
        {
          "output_type": "stream",
          "text": [
            "1575.0\n"
          ],
          "name": "stdout"
        }
      ]
    },
    {
      "cell_type": "markdown",
      "metadata": {
        "id": "RchmyFYRMNdd",
        "colab_type": "text"
      },
      "source": [
        "Cálculo de 15% aumento de salário...."
      ]
    },
    {
      "cell_type": "code",
      "metadata": {
        "id": "4_PFW6sroUXH",
        "colab_type": "code",
        "outputId": "77086ba7-ffdc-4eea-95a1-ed2bf2c11884",
        "colab": {
          "base_uri": "https://localhost:8080/",
          "height": 34
        }
      },
      "source": [
        "salario = 750\n",
        "aumento = 15\n",
        "print (salario + (salario * aumento / 100))"
      ],
      "execution_count": 0,
      "outputs": [
        {
          "output_type": "stream",
          "text": [
            "862.5\n"
          ],
          "name": "stdout"
        }
      ]
    },
    {
      "cell_type": "markdown",
      "metadata": {
        "id": "cBFc4z5Q3xMp",
        "colab_type": "text"
      },
      "source": [
        "Valores lógicos... "
      ]
    },
    {
      "cell_type": "code",
      "metadata": {
        "id": "GuXpn5qT3sQR",
        "colab_type": "code",
        "outputId": "312ce783-576a-4e06-f086-fe13f2e78b36",
        "colab": {
          "base_uri": "https://localhost:8080/",
          "height": 34
        }
      },
      "source": [
        "sal = 200\n",
        "vl = 100\n",
        "sal > vl"
      ],
      "execution_count": 0,
      "outputs": [
        {
          "output_type": "execute_result",
          "data": {
            "text/plain": [
              "True"
            ]
          },
          "metadata": {
            "tags": []
          },
          "execution_count": 20
        }
      ]
    },
    {
      "cell_type": "code",
      "metadata": {
        "id": "JphlTjwAnpDh",
        "colab_type": "code",
        "outputId": "e9fc7606-40d1-48b2-8660-05b2bafacba0",
        "colab": {
          "base_uri": "https://localhost:8080/",
          "height": 34
        }
      },
      "source": [
        "materia1 = 8\n",
        "materia2 = 9\n",
        "materia3 = 7\n",
        "materia1 > 7 and materia2 > 7 and materia3 > 7"
      ],
      "execution_count": 0,
      "outputs": [
        {
          "output_type": "execute_result",
          "data": {
            "text/plain": [
              "False"
            ]
          },
          "metadata": {
            "tags": []
          },
          "execution_count": 21
        }
      ]
    },
    {
      "cell_type": "markdown",
      "metadata": {
        "id": "wg4dYcaJEGDg",
        "colab_type": "text"
      },
      "source": [
        "Sequencia da linha do tempo :)"
      ]
    },
    {
      "cell_type": "code",
      "metadata": {
        "id": "8enDpb9oDiFt",
        "colab_type": "code",
        "outputId": "f6066904-a311-42b8-9ad2-2fd243c26651",
        "colab": {
          "base_uri": "https://localhost:8080/",
          "height": 34
        }
      },
      "source": [
        "divida = 0\n",
        "compra = 100\n",
        "divida = divida + compra\n",
        "compra = 200\n",
        "divida = divida + compra\n",
        "compra = 300\n",
        "divida = divida + compra\n",
        "compra = 0\n",
        "print(divida)"
      ],
      "execution_count": 0,
      "outputs": [
        {
          "output_type": "stream",
          "text": [
            "600\n"
          ],
          "name": "stdout"
        }
      ]
    },
    {
      "cell_type": "markdown",
      "metadata": {
        "id": "6Hy2RR36M7o7",
        "colab_type": "text"
      },
      "source": [
        "Entrada de dados .... Somando valores "
      ]
    },
    {
      "cell_type": "code",
      "metadata": {
        "id": "NaGDOnIcGNrj",
        "colab_type": "code",
        "outputId": "5a15618d-d96b-41d9-dad1-14bd3f857637",
        "colab": {
          "base_uri": "https://localhost:8080/",
          "height": 68
        }
      },
      "source": [
        "x = int (input('digite um numero: '))\n",
        "y = int (input('digite outro numero: '))\n",
        "print( x + y)"
      ],
      "execution_count": 0,
      "outputs": [
        {
          "output_type": "stream",
          "text": [
            "digite um numero: 20\n",
            "digite outro numero: 15\n",
            "35\n"
          ],
          "name": "stdout"
        }
      ]
    },
    {
      "cell_type": "markdown",
      "metadata": {
        "id": "ROF9YqLuq7Dz",
        "colab_type": "text"
      },
      "source": [
        "Lista pg 72 -> \n",
        "Escreva um programa que converta a temperatura digitada em ºC em ºF."
      ]
    },
    {
      "cell_type": "code",
      "metadata": {
        "id": "x3-RnTXnruEb",
        "colab_type": "code",
        "outputId": "cfac993a-3c6c-423a-e79a-73ec047573f6",
        "colab": {
          "base_uri": "https://localhost:8080/",
          "height": 51
        }
      },
      "source": [
        "c = float (input('Informe a temperatura em ºc'))\n",
        "f = ((9 * c)/ 5) + 32\n",
        "\n",
        "print ('A temperatura de {} ºC corresponde a {}ºF' .format(c,f))"
      ],
      "execution_count": 0,
      "outputs": [
        {
          "output_type": "stream",
          "text": [
            "Informe a temperatura em ºc25\n",
            "A temperatura de 25.0 ºC corresponde a 77.0ºF\n"
          ],
          "name": "stdout"
        }
      ]
    },
    {
      "cell_type": "markdown",
      "metadata": {
        "id": "UokNFiR-tO5v",
        "colab_type": "text"
      },
      "source": [
        "Escreva um programa que pergunte o total percorrido por um carro alugado,  quantidade de dias pelo qual o carro foi alugado. Calcule o preço a pagar, sabendo que o carro custa RS 60 por dia e RS 0,15 por km rodado."
      ]
    },
    {
      "cell_type": "code",
      "metadata": {
        "id": "06IRHNgUuEwk",
        "colab_type": "code",
        "outputId": "ddce4f30-857d-466b-92d8-5734914a4a76",
        "colab": {
          "base_uri": "https://localhost:8080/",
          "height": 68
        }
      },
      "source": [
        "kmp = int(input(\"Digite a quantidade de km percorridos: \"))\n",
        "dias = int(input(\"Digite a quantidade de dias: \"))\n",
        "\n",
        "print ('Valor do aluguel: R$ %.2f' %(kmp*0.15 + dias*60) )"
      ],
      "execution_count": 0,
      "outputs": [
        {
          "output_type": "stream",
          "text": [
            "Digite a quantidade de km percorridos: 750\n",
            "Digite a quantidade de dias: 10\n",
            "Valor do aluguel: R$ 712.50\n"
          ],
          "name": "stdout"
        }
      ]
    },
    {
      "cell_type": "markdown",
      "metadata": {
        "id": "-xDANr5B38Wq",
        "colab_type": "text"
      },
      "source": [
        "Calculo bonus de tempo de serviço"
      ]
    },
    {
      "cell_type": "code",
      "metadata": {
        "id": "WyK7zo4g4AL4",
        "colab_type": "code",
        "outputId": "a200c821-5360-4514-9082-c845a877553d",
        "colab": {
          "base_uri": "https://localhost:8080/",
          "height": 68
        }
      },
      "source": [
        "anos = int(input('Anos de serviço: '))\n",
        "valor_por_ano = float(input('Valor por ano: '))\n",
        "bonus = anos * valor_por_ano\n",
        "\n",
        "print(\" Bonus de R$ %5.2f\" % bonus)"
      ],
      "execution_count": 0,
      "outputs": [
        {
          "output_type": "stream",
          "text": [
            "Anos de serviço: 35\n",
            "Valor por ano: 20\n",
            " Bonus de R$ 700.00\n"
          ],
          "name": "stdout"
        }
      ]
    },
    {
      "cell_type": "markdown",
      "metadata": {
        "id": "NjSIKO787YP5",
        "colab_type": "text"
      },
      "source": [
        "Em frete... **Executar ou não executar? Eis a questão**...\n",
        "Sim, tenho medo dos erros que vão aparecer quando executo o código"
      ]
    },
    {
      "cell_type": "code",
      "metadata": {
        "id": "NwJDROUj_fHp",
        "colab_type": "code",
        "outputId": "3dbf79b8-34be-434a-b90a-4a6102fc4760",
        "colab": {
          "base_uri": "https://localhost:8080/",
          "height": 68
        }
      },
      "source": [
        "a = int(input(\"Primeiro valor: \"))\n",
        "b = int(input(\"Segundo valor: \"))\n",
        "if a > b:\n",
        "  print(\"O primeiro valor é maior\")\n",
        "if b > a: \n",
        "  print(\"O segundo valor é maior\")"
      ],
      "execution_count": 0,
      "outputs": [
        {
          "output_type": "stream",
          "text": [
            "Primeiro valor: 457\n",
            "Segundo valor: 124\n",
            "O primeiro valor é maior\n"
          ],
          "name": "stdout"
        }
      ]
    },
    {
      "cell_type": "markdown",
      "metadata": {
        "id": "gp4P8QVEB1bw",
        "colab_type": "text"
      },
      "source": [
        "Se resultados forem iguais no exercicio acima não teremos resultado, pois a nossa condição preve apena valor > ou <.  Não tratamos valores iguais. E isso pode ser resolvido se adicionarmos no 'if' a condição >= maior ou igual."
      ]
    },
    {
      "cell_type": "markdown",
      "metadata": {
        "id": "53ZMcUFYOE-I",
        "colab_type": "text"
      },
      "source": [
        "Cálculo de multa por velocidade..."
      ]
    },
    {
      "cell_type": "code",
      "metadata": {
        "id": "OLUP_ycMCvCc",
        "colab_type": "code",
        "outputId": "587025d1-171c-4173-dae1-96589b30c13c",
        "colab": {
          "base_uri": "https://localhost:8080/",
          "height": 52
        }
      },
      "source": [
        "velocidade = float(input(\"Velocidade do carro: \"))\n",
        "if velocidade > 80: \n",
        "  multa = (velocidade-80)*5\n",
        "  print(\"Velcidade permitida 80km/h. O valor da multa R$ %5.2f\" % multa)\n",
        "if velocidade <= 80:\n",
        "  print(\"Vá com segurança, tenha cuidado!\")"
      ],
      "execution_count": 0,
      "outputs": [
        {
          "output_type": "stream",
          "text": [
            "Velocidade do carro: 81\n",
            "Velcidade permitid 80km/h. O valor da multa R$  5.00\n"
          ],
          "name": "stdout"
        }
      ]
    },
    {
      "cell_type": "markdown",
      "metadata": {
        "id": "hld9DELCwe_M",
        "colab_type": "text"
      },
      "source": [
        "\n",
        "\n",
        "```\n",
        "# 13 de maio\n",
        "```\n",
        "Cálculo de imposto"
      ]
    },
    {
      "cell_type": "code",
      "metadata": {
        "id": "OsfkhEdHwu7Z",
        "colab_type": "code",
        "outputId": "1711311d-2e29-437f-ab56-c29bbad9160a",
        "colab": {
          "base_uri": "https://localhost:8080/",
          "height": 52
        }
      },
      "source": [
        "salario = float(input('Digite o salario para calculo de imposto: '))\n",
        "base = salario\n",
        "imposto = 0\n",
        "if base > 3000:\n",
        "  imposto = imposto + ((base - 3000) * 0.35)\n",
        "  base = 3000\n",
        "if base > 1000:\n",
        "  imposto = imposto + ((base - 1000) * 0.20)\n",
        "\n",
        "print('Salario: R$%.2f Imposto a pagar R$%6.2f' % (salario, imposto))"
      ],
      "execution_count": 0,
      "outputs": [
        {
          "output_type": "stream",
          "text": [
            "Digite o salario para calculo de imposto: 6000\n",
            "Salario: R$6000.00 Imposto a pagar R$1450.00\n"
          ],
          "name": "stdout"
        }
      ]
    },
    {
      "cell_type": "markdown",
      "metadata": {
        "id": "Rs8pU8lw1Dzp",
        "colab_type": "text"
      },
      "source": [
        "Escreva um programa que leia 3 númros e retore o maior e menor"
      ]
    },
    {
      "cell_type": "code",
      "metadata": {
        "id": "fktufape1TSJ",
        "colab_type": "code",
        "outputId": "3abcbeb3-15ee-4de4-92bb-c9e8dc7470d8",
        "colab": {
          "base_uri": "https://localhost:8080/",
          "height": 104
        }
      },
      "source": [
        "primeiro = int(input('Primeiro numero: '))\n",
        "segundo  = int(input('Segundo numero : '))\n",
        "terceiro = int(input('Terceiro numero: '))\n",
        "\n",
        "# Achando o maior número\n",
        "maior = primeiro\n",
        "\n",
        "if (segundo > maior):\n",
        "  maior = segundo\n",
        "if (terceiro > maior):\n",
        "  maior = terceiro\n",
        "\n",
        "print('Maior: ',maior)\n",
        "\n",
        "# Achando o menor número\n",
        "menor = primeiro\n",
        "\n",
        "if (segundo < menor):\n",
        "  menor = segundo\n",
        "if (terceiro < menor):\n",
        "  menor = terceiro\n",
        "print('Menor: ',menor)"
      ],
      "execution_count": 0,
      "outputs": [
        {
          "output_type": "stream",
          "text": [
            "Primeiro numero: 1\n",
            "Segundo numero : 2\n",
            "Terceiro numero: 3\n",
            "Maior:  3\n",
            "Menor:  1\n"
          ],
          "name": "stdout"
        }
      ]
    },
    {
      "cell_type": "markdown",
      "metadata": {
        "id": "ahq3A8X4-nCM",
        "colab_type": "text"
      },
      "source": [
        "Escreva um programa que pergunte o sálario e calcule o valor do aumento. \n",
        "Para salários superiores a 1.250,00 calcule um aumento de 10%.  Para inferiores, de 15%"
      ]
    },
    {
      "cell_type": "code",
      "metadata": {
        "id": "1x_SYAlN_oQm",
        "colab_type": "code",
        "outputId": "db310035-1c5b-44a1-f0c6-34e7de7a9e02",
        "colab": {
          "base_uri": "https://localhost:8080/",
          "height": 52
        }
      },
      "source": [
        "salario = float(input('Digite o salario para calculo do aumento: '))\n",
        "\n",
        "# variavel que guarda o valor do salario para usar depois\n",
        "base = salario\n",
        "aumento = 0\n",
        "# verificando valor do salario para calculo\n",
        "if base > 1250:\n",
        "  aumento = aumento + (( 10 * base)/100)\n",
        "  base = 1250\n",
        "if base <= 1250:\n",
        "  aumento = aumento + (( 15 * base)/100)\n",
        "\n",
        "  print(\"salario: R$%6.2f Valor do aumento: R$%6.2f\" % (salario, aumento))\n"
      ],
      "execution_count": 0,
      "outputs": [
        {
          "output_type": "stream",
          "text": [
            "Digite o salario para calculo do aumento: 1250\n",
            "salario: R$1250.00 Valor do aumento: R$187.50\n"
          ],
          "name": "stdout"
        }
      ]
    },
    {
      "cell_type": "markdown",
      "metadata": {
        "id": "EktOwJz5OGi8",
        "colab_type": "text"
      },
      "source": [
        "Escreva um programa que pegunte a distancia que um passageiro deseja percorrer em km. Calcule o preço da passagem, cobrando 0,50 opr km para viagens até 200 km, e 0,45 para viagens mais longas"
      ]
    },
    {
      "cell_type": "code",
      "metadata": {
        "id": "BZSr6xo9OunI",
        "colab_type": "code",
        "outputId": "1e86f745-3c5d-4a42-87f1-dae01140bdc5",
        "colab": {
          "base_uri": "https://localhost:8080/",
          "height": 52
        }
      },
      "source": [
        "viagem = float(input('Qual a distancia da vigem ? '))\n",
        "distancia = viagem\n",
        "preco = 0\n",
        "\n",
        "if distancia <= 200:\n",
        "  preco = (distancia * 0.50)\n",
        "if distancia > 200:\n",
        "  preco = (distancia * 0.45) \n",
        "\n",
        "\n",
        "print('Distancia da viagem: %.f e Valor a pagar R$%6.2f' % (distancia, preco))\n"
      ],
      "execution_count": 0,
      "outputs": [
        {
          "output_type": "stream",
          "text": [
            "Qual a distancia da vigem ?: 100\n",
            "Distancia da viagem: 100 e Valor a pagar R$ 50.00\n"
          ],
          "name": "stdout"
        }
      ]
    },
    {
      "cell_type": "markdown",
      "metadata": {
        "id": "LW40bFWTZyIc",
        "colab_type": "text"
      },
      "source": [
        "Estruturas aninhadas"
      ]
    },
    {
      "cell_type": "code",
      "metadata": {
        "id": "tkDz_tsoZ3xD",
        "colab_type": "code",
        "outputId": "77e39e31-aecb-40fc-eee2-b2ed2803367c",
        "colab": {
          "base_uri": "https://localhost:8080/",
          "height": 52
        }
      },
      "source": [
        "categoria = int(input(\"Digite a categoria do produto:\"))\n",
        "if categoria == 1:\n",
        "  preco = 10\n",
        "else:\n",
        "    if categoria == 2:\n",
        "      preco = 18\n",
        "    else:\n",
        "        if categoria == 3:\n",
        "          preco = 23\n",
        "        else:\n",
        "            if categoria == 4:\n",
        "              preco = 26\n",
        "            else:\n",
        "                if categoria == 5:\n",
        "                  preco = 31\n",
        "                else:\n",
        "                    print('Categoria invalida,digite um valor entre 1 e 5!')\n",
        "                    preco = 0\n",
        "print(\"O preco do produto é: R$%6.2f\" % preco)"
      ],
      "execution_count": 0,
      "outputs": [
        {
          "output_type": "stream",
          "text": [
            "Digite a categoria do produto:5\n",
            "O preco do produto é: R$ 31.00\n"
          ],
          "name": "stdout"
        }
      ]
    },
    {
      "cell_type": "markdown",
      "metadata": {
        "id": "_okK_LMb5rY-",
        "colab_type": "text"
      },
      "source": [
        "Elif, para o mesmo caso acima:"
      ]
    },
    {
      "cell_type": "code",
      "metadata": {
        "id": "pMJS5WmH9JWd",
        "colab_type": "code",
        "outputId": "1c6c0fbf-e321-49ec-dc6f-8552a9bcf2b0",
        "colab": {
          "base_uri": "https://localhost:8080/",
          "height": 69
        }
      },
      "source": [
        "categoria = int(input(\"Digite a categoria do produto:\"))\n",
        "if categoria == 1:\n",
        "  preco = 10\n",
        "elif categoria == 2:\n",
        "  preo = 8\n",
        "elif categoria == 3:\n",
        "  preco = 23\n",
        "elif categoria == 4:\n",
        "  preco = 26\n",
        "elif categoria == 5:\n",
        "  preco = 31\n",
        "else:\n",
        "    print('Categoria invalida,digite um valor entre 1 e 5!')\n",
        "    preco = 0\n",
        "print(\"O preco do produto é: R$%6.2f\" % preco)"
      ],
      "execution_count": 0,
      "outputs": [
        {
          "output_type": "stream",
          "text": [
            "Digite a categoria do produto:6\n",
            "Categoria invalida,digite um valor entre 1 e 5!\n",
            "O preco do produto é: R$  0.00\n"
          ],
          "name": "stdout"
        }
      ]
    }
  ]
}